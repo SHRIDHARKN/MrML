{
 "cells": [
  {
   "cell_type": "code",
   "execution_count": 1,
   "id": "9e64bf46",
   "metadata": {},
   "outputs": [],
   "source": [
    "import operator\n",
    "from typing import Annotated, TypedDict\n",
    "from langchain_community.chat_models import ChatOllama\n",
    "from langgraph.graph import StateGraph, END\n",
    "from IPython.display import display, Markdown"
   ]
  },
  {
   "cell_type": "code",
   "execution_count": 2,
   "id": "d81baa5d",
   "metadata": {},
   "outputs": [],
   "source": [
    "# --- 1. Define the Graph State ---\n",
    "# - This defines the \"schema\" of the state that will be passed between nodes.\n",
    "\n",
    "class GraphState(TypedDict):\n",
    "    \"\"\"\n",
    "    Represents the state of our graph.\n",
    "\n",
    "    Attributes:\n",
    "        question: The user's initial question.\n",
    "        response: The accumulated response from the LLMs.\n",
    "    \"\"\"\n",
    "    question: str\n",
    "    response: Annotated[str, operator.add] # Use operator.add to append responses"
   ]
  },
  {
   "cell_type": "code",
   "execution_count": 3,
   "id": "29526012",
   "metadata": {},
   "outputs": [],
   "source": [
    "# --- 2. Initialize Local LLMs ---\n",
    "# Assuming you have Ollama running and these models downloaded:\n",
    "# ollama run llama3:8b\n",
    "\n",
    "try:\n",
    "    llm_1 = ChatOllama(model=\"qwen3:0.6b\", temperature=0) # Often a good general-purpose lightweight model\n",
    "    llm_2 = ChatOllama(model=\"qwen3:0.6b\", temperature=0) # Another popular lightweight choice\n",
    "    llm_3 = ChatOllama(model=\"qwen3:0.6b\", temperature=0) # Very small, good for basic tasks\n",
    "except Exception as e:\n",
    "    print(f\"Error initializing Ollama models. Make sure Ollama is running and models are downloaded.\")\n",
    "    print(f\"You can download models with: ollama run qwen3:0.6b\")\n",
    "    print(f\"Error: {e}\")\n",
    "    exit()"
   ]
  },
  {
   "cell_type": "code",
   "execution_count": 4,
   "id": "0d788ebf",
   "metadata": {},
   "outputs": [],
   "source": [
    "# --- 3. Define Nodes (Functions for each LLM) ---\n",
    "\n",
    "def llm_node_1(state: GraphState):\n",
    "    \"\"\"\n",
    "    First LLM processing node.\n",
    "    \"\"\"\n",
    "    print(\"---NODE 1: Qwen Processing---\")\n",
    "    question = state[\"question\"]\n",
    "    # Simulate some processing by the LLM\n",
    "    llm_response = llm_1.invoke(f\"\"\"Process this: {question}. Add a brief introduction. \n",
    "                                Start your final response with text **'Response 1:'** \"\"\")\n",
    "    \n",
    "    return {\"response\": f\"Node 1 Qwen's take: {llm_response.content}\\n\"}\n",
    "\n",
    "def llm_node_2(state: GraphState):\n",
    "    \"\"\"\n",
    "    Second LLM processing node.\n",
    "    \"\"\"\n",
    "    print(\"---NODE 2: Qwen Processing---\")\n",
    "    question = state[\"question\"]\n",
    "    current_response = state.get(\"response\", \"\")\n",
    "    #current_response = current_response.split(\"Response 1:\")[-1]\n",
    "    # Simulate more processing based on the question and previous response\n",
    "    llm_response = llm_2.invoke(f\"\"\"Elaborate on: '{question}'. Consider previous output: '{current_response}' \n",
    "                                Start your final response with text **'Response 2:'** \"\"\")\n",
    "\n",
    "    return {\"response\": f\"Node 2 Qwen's take: {llm_response.content}\\n\"}\n",
    "\n",
    "\n",
    "def llm_node_3(state: GraphState):\n",
    "    \"\"\"\n",
    "    Third LLM processing node.\n",
    "    \"\"\"\n",
    "    print(\"---NODE 3: Qwen Processing---\")\n",
    "    question = state[\"question\"]\n",
    "    current_response = state.get(\"response\", \"\")\n",
    "    # Simulate a final touch or summary\n",
    "    llm_response = llm_3.invoke(f\"\"\"Summarize the main point of '{question}' after seeing this: '{current_response}'.\n",
    "                                Start your final response with text **'Response 3:'** \"\"\")\n",
    "\n",
    "    return {\"response\": f\"Node 3 Qwen's take: {llm_response.content}\\n\"}"
   ]
  },
  {
   "cell_type": "code",
   "execution_count": 5,
   "id": "df03a8bf",
   "metadata": {},
   "outputs": [],
   "source": [
    "# --- 4. Build the LangGraph Workflow ---\n",
    "\n",
    "workflow = StateGraph(GraphState)\n",
    "\n",
    "# Add nodes to the workflow\n",
    "workflow.add_node(\"QwenNode1\", llm_node_1)\n",
    "workflow.add_node(\"QwenNode2\", llm_node_2)\n",
    "workflow.add_node(\"QwenNode3\", llm_node_3)\n",
    "\n",
    "# Define the sequence of execution\n",
    "workflow.set_entry_point(\"QwenNode1\")\n",
    "workflow.add_edge(\"QwenNode1\", \"QwenNode2\")\n",
    "workflow.add_edge(\"QwenNode2\", \"QwenNode3\") \n",
    "workflow.add_edge(\"QwenNode3\", END) \n",
    "\n",
    "# Compile the graph\n",
    "app = workflow.compile()"
   ]
  },
  {
   "cell_type": "code",
   "execution_count": 6,
   "id": "5193d0b4",
   "metadata": {},
   "outputs": [
    {
     "name": "stdout",
     "output_type": "stream",
     "text": [
      "---NODE 1: Qwen Processing---\n"
     ]
    },
    {
     "data": {
      "text/markdown": [
       "Node 1 Qwen's take: <think>\n",
       "Okay, the user wants me to explain photosynthesis in simple language, add a brief introduction, and start with \"Response 1:.\" Let me break this down.\n",
       "\n",
       "First, photosynthesis is a process that plants use to make food. I need to explain it in simple terms. Maybe start with the basic idea. Then add a brief intro. Let me check if I'm using simple language. Words like \"plants,\" \"sunlight,\" \"carbon dioxide,\" \"oxygen\" come to mind. Make sure to mention that plants make oxygen. Then wrap it up with the introduction. Let me structure it step by step. Avoid jargon, keep it conversational. Double-check the flow and ensure the introduction is brief. Alright, that should cover it.\n",
       "</think>\n",
       "\n",
       "**Response 1:**  \n",
       "Photosynthesis is when plants use sunlight, water, and carbon dioxide to make oxygen and food. This process helps plants grow and supports life on Earth.  \n",
       "\n",
       "**Explanation:**  \n",
       "Plants take in sunlight, water, and carbon dioxide from the air and use them to create glucose and oxygen. This glucose is used by plants to build their own food, which then supports other plants and animals.\n"
      ],
      "text/plain": [
       "<IPython.core.display.Markdown object>"
      ]
     },
     "metadata": {},
     "output_type": "display_data"
    },
    {
     "name": "stdout",
     "output_type": "stream",
     "text": [
      "=========================\n",
      "---NODE 2: Qwen Processing---\n"
     ]
    },
    {
     "data": {
      "text/markdown": [
       "Node 2 Qwen's take: <think>\n",
       "Okay, the user wants me to elaborate on the concept of photosynthesis in simple language. They also provided a previous response, so I need to build on that. Let me start by rephrasing the previous response to make it more detailed. The original response was a bit short, so expanding it would help. I should mention the process in more depth, maybe include some examples like how plants use the process to sustain life. Also, make sure to highlight the key components: sunlight, water, carbon dioxide, and the products. Keep the language simple and conversational. Let me check if I'm using simple terms and if the explanation is clear. Alright, that should cover it.\n",
       "</think>\n",
       "\n",
       "**Response 2:**  \n",
       "Photosynthesis is when plants use sunlight, water, and carbon dioxide to make oxygen and food. This process helps plants grow and supports life on Earth.  \n",
       "\n",
       "**Explanation:**  \n",
       "Plants take in sunlight, water, and carbon dioxide from the air and use them to create glucose and oxygen. This glucose is used by plants to build their food, which then supports other plants and animals.  \n",
       "\n",
       "**Key components:**  \n",
       "- **Sunlight:** The energy needed for photosynthesis.  \n",
       "- **Water:** The plant needs to absorb water to make food.  \n",
       "- **Carbon dioxide:** The plant uses to create glucose.  \n",
       "- **Products:** Oxygen is released back into the atmosphere, and plants make glucose for their own use.  \n",
       "\n",
       "This process is vital for sustaining life on Earth.\n"
      ],
      "text/plain": [
       "<IPython.core.display.Markdown object>"
      ]
     },
     "metadata": {},
     "output_type": "display_data"
    },
    {
     "name": "stdout",
     "output_type": "stream",
     "text": [
      "=========================\n",
      "---NODE 3: Qwen Processing---\n"
     ]
    },
    {
     "data": {
      "text/markdown": [
       "Node 3 Qwen's take: <think>\n",
       "Okay, the user wants me to summarize the main point of explaining photosynthesis in simple language. They provided a previous response, so I need to build on that. Let me check the previous response again to make sure I'm consistent.\n",
       "\n",
       "In the first response, I mentioned plants using sunlight, water, and carbon dioxide to make oxygen and food. Then I expanded it by adding more details. The second response was a bit shorter, so I should expand on that. Let me rephrase the second response to be more detailed and include the key components. Also, make sure to mention the products and their purpose. Alright, that should cover it. Let me put it all together clearly.\n",
       "</think>\n",
       "\n",
       "**Response 3:**  \n",
       "Photosynthesis is when plants use sunlight, water, and carbon dioxide to make oxygen and food. This process helps plants grow and supports life on Earth.  \n",
       "\n",
       "**Explanation:**  \n",
       "Plants take in sunlight, water, and carbon dioxide from the air and use them to create glucose and oxygen. This glucose is used by plants to build their food, which then supports other plants and animals.  \n",
       "\n",
       "**Key components:**  \n",
       "- **Sunlight:** The energy needed for photosynthesis.  \n",
       "- **Water:** The plant needs to absorb water to make food.  \n",
       "- **Carbon dioxide:** The plant uses to create glucose.  \n",
       "- **Products:** Oxygen is released back into the atmosphere, and plants make glucose for their own use.  \n",
       "\n",
       "This process is vital for sustaining life on Earth.\n"
      ],
      "text/plain": [
       "<IPython.core.display.Markdown object>"
      ]
     },
     "metadata": {},
     "output_type": "display_data"
    },
    {
     "name": "stdout",
     "output_type": "stream",
     "text": [
      "=========================\n"
     ]
    }
   ],
   "source": [
    "user_question = \"Explain the concept of photosynthesis in simple language.\"\n",
    "for s in app.stream({\"question\": user_question, \"response\": \"\"}):\n",
    "    node_name = list(s.keys())[0]\n",
    "    display(Markdown(s[node_name][\"response\"]))\n",
    "    print(\"=\"*25)"
   ]
  }
 ],
 "metadata": {
  "kernelspec": {
   "display_name": "llm_env",
   "language": "python",
   "name": "python3"
  },
  "language_info": {
   "codemirror_mode": {
    "name": "ipython",
    "version": 3
   },
   "file_extension": ".py",
   "mimetype": "text/x-python",
   "name": "python",
   "nbconvert_exporter": "python",
   "pygments_lexer": "ipython3",
   "version": "3.10.14"
  }
 },
 "nbformat": 4,
 "nbformat_minor": 5
}
